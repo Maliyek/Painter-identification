{
 "cells": [
  {
   "cell_type": "markdown",
   "metadata": {},
   "source": [
    "# Painters Identification using ConvNets\n",
    "<img align=\"right\" width=\"350\" height=\"350\"\n",
    "     title=\"Size Limit logo\" src=\"pooling.png\">\n",
    "### Index\n",
    "\n",
    "- [Introduction](#intro)\n",
    "- [Overview and Data](#over)\n",
    "    - [Importing packages](#pack)\n",
    "- [Organizing and preprocessing the data](#orgdata)\n",
    "    - [Building subfolders](#splitting)\n",
    "    - [Preprocessing data](#prepro)\n",
    "    - [Folders containing train and test sets](#ttsets)\n",
    "    - [Building subdirectory per image class](#buildsubs)"
   ]
  },
  {
   "cell_type": "markdown",
   "metadata": {},
   "source": [
    "## Introduction"
   ]
  },
  {
   "cell_type": "markdown",
   "metadata": {},
   "source": [
    "The challenge of recognizing artists given their paintings has been, for a long time, far beyond the capability of algorithms. Recent advances in deep learning, specifically the development of convolutional neural networks, have made that task possible.\n",
    "\n",
    "## Overview and Data \n",
    "\n",
    "I used Convolutional Neural Networks (ConvNets) to identify the artist of a given painting. \n",
    "\n",
    "The dataset contains a minimum of 400 paintings per artist <br> from a set of 37 famous artists. \n",
    "<br><br>\n",
    "I trained a small ConvNet built from scratch, and also used transfer learning, fine-tuning the top layers of a deep pre-trained networks (VGG16).\n",
    "\n",
    "The file `all_data_info.csv` contains information about the images. Only three columns were kept. The titles of the first and third columns are self-evident. A general observation regarding image sets is that we can say that \"each image is a (or is a set of) features\". Images can be also interpreted as array of numbers (more on that later)."
   ]
  },
  {
   "cell_type": "code",
   "execution_count": 53,
   "metadata": {},
   "outputs": [],
   "source": [
    "import pandas as pd\n",
    "from IPython.core.interactiveshell import InteractiveShell\n",
    "InteractiveShell.ast_node_interactivity = \"all\" # see the value of multiple statements at once.\n",
    "pd.set_option('display.max_columns', None)"
   ]
  },
  {
   "cell_type": "code",
   "execution_count": 54,
   "metadata": {},
   "outputs": [
    {
     "data": {
      "text/html": [
       "<div>\n",
       "<style scoped>\n",
       "    .dataframe tbody tr th:only-of-type {\n",
       "        vertical-align: middle;\n",
       "    }\n",
       "\n",
       "    .dataframe tbody tr th {\n",
       "        vertical-align: top;\n",
       "    }\n",
       "\n",
       "    .dataframe thead th {\n",
       "        text-align: right;\n",
       "    }\n",
       "</style>\n",
       "<table border=\"1\" class=\"dataframe\">\n",
       "  <thead>\n",
       "    <tr style=\"text-align: right;\">\n",
       "      <th></th>\n",
       "      <th>artist</th>\n",
       "      <th>in_train</th>\n",
       "      <th>new_filename</th>\n",
       "    </tr>\n",
       "  </thead>\n",
       "  <tbody>\n",
       "    <tr>\n",
       "      <th>0</th>\n",
       "      <td>Barnett Newman</td>\n",
       "      <td>True</td>\n",
       "      <td>102257.jpg</td>\n",
       "    </tr>\n",
       "    <tr>\n",
       "      <th>1</th>\n",
       "      <td>Barnett Newman</td>\n",
       "      <td>True</td>\n",
       "      <td>75232.jpg</td>\n",
       "    </tr>\n",
       "    <tr>\n",
       "      <th>2</th>\n",
       "      <td>kiri nichol</td>\n",
       "      <td>False</td>\n",
       "      <td>32145.jpg</td>\n",
       "    </tr>\n",
       "    <tr>\n",
       "      <th>3</th>\n",
       "      <td>kiri nichol</td>\n",
       "      <td>False</td>\n",
       "      <td>20304.jpg</td>\n",
       "    </tr>\n",
       "    <tr>\n",
       "      <th>4</th>\n",
       "      <td>kiri nichol</td>\n",
       "      <td>False</td>\n",
       "      <td>836.jpg</td>\n",
       "    </tr>\n",
       "  </tbody>\n",
       "</table>\n",
       "</div>"
      ],
      "text/plain": [
       "           artist  in_train new_filename\n",
       "0  Barnett Newman      True   102257.jpg\n",
       "1  Barnett Newman      True    75232.jpg\n",
       "2     kiri nichol     False    32145.jpg\n",
       "3     kiri nichol     False    20304.jpg\n",
       "4     kiri nichol     False      836.jpg"
      ]
     },
     "execution_count": 54,
     "metadata": {},
     "output_type": "execute_result"
    },
    {
     "name": "stdout",
     "output_type": "stream",
     "text": [
      "The number of rows in our dataframe is: 103250 \n",
      "\n"
     ]
    }
   ],
   "source": [
    "df = pd.read_csv('all_data_info.csv').iloc[:, [0,10,11]]\n",
    "df.head()\n",
    "print(\"The number of rows in our dataframe is:\",df.shape[0],'\\n')"
   ]
  },
  {
   "cell_type": "code",
   "execution_count": 58,
   "metadata": {},
   "outputs": [
    {
     "data": {
      "text/plain": [
       "0"
      ]
     },
     "execution_count": 58,
     "metadata": {},
     "output_type": "execute_result"
    }
   ],
   "source": [
    "len([x for x in df['new_filename'].duplicated(keep=False) if x == True])"
   ]
  },
  {
   "cell_type": "code",
   "execution_count": 60,
   "metadata": {},
   "outputs": [
    {
     "data": {
      "text/html": [
       "<div>\n",
       "<style scoped>\n",
       "    .dataframe tbody tr th:only-of-type {\n",
       "        vertical-align: middle;\n",
       "    }\n",
       "\n",
       "    .dataframe tbody tr th {\n",
       "        vertical-align: top;\n",
       "    }\n",
       "\n",
       "    .dataframe thead th {\n",
       "        text-align: right;\n",
       "    }\n",
       "</style>\n",
       "<table border=\"1\" class=\"dataframe\">\n",
       "  <thead>\n",
       "    <tr style=\"text-align: right;\">\n",
       "      <th></th>\n",
       "      <th>value_counts</th>\n",
       "    </tr>\n",
       "    <tr>\n",
       "      <th>col_name</th>\n",
       "      <th></th>\n",
       "    </tr>\n",
       "  </thead>\n",
       "  <tbody>\n",
       "    <tr>\n",
       "      <th>Giovanni Battista Piranesi</th>\n",
       "      <td>500</td>\n",
       "    </tr>\n",
       "    <tr>\n",
       "      <th>Ivan Shishkin</th>\n",
       "      <td>500</td>\n",
       "    </tr>\n",
       "    <tr>\n",
       "      <th>John Singer Sargent</th>\n",
       "      <td>500</td>\n",
       "    </tr>\n",
       "    <tr>\n",
       "      <th>Pierre-Auguste Renoir</th>\n",
       "      <td>500</td>\n",
       "    </tr>\n",
       "    <tr>\n",
       "      <th>Pablo Picasso</th>\n",
       "      <td>500</td>\n",
       "    </tr>\n",
       "    <tr>\n",
       "      <th>Marc Chagall</th>\n",
       "      <td>500</td>\n",
       "    </tr>\n",
       "    <tr>\n",
       "      <th>Zdislav Beksinski</th>\n",
       "      <td>500</td>\n",
       "    </tr>\n",
       "    <tr>\n",
       "      <th>Ilya Repin</th>\n",
       "      <td>500</td>\n",
       "    </tr>\n",
       "    <tr>\n",
       "      <th>Rembrandt</th>\n",
       "      <td>500</td>\n",
       "    </tr>\n",
       "    <tr>\n",
       "      <th>Albrecht Durer</th>\n",
       "      <td>500</td>\n",
       "    </tr>\n",
       "    <tr>\n",
       "      <th>Gustave Dore</th>\n",
       "      <td>500</td>\n",
       "    </tr>\n",
       "    <tr>\n",
       "      <th>Ivan Aivazovsky</th>\n",
       "      <td>500</td>\n",
       "    </tr>\n",
       "    <tr>\n",
       "      <th>Pyotr Konchalovsky</th>\n",
       "      <td>499</td>\n",
       "    </tr>\n",
       "    <tr>\n",
       "      <th>Camille Pissarro</th>\n",
       "      <td>499</td>\n",
       "    </tr>\n",
       "    <tr>\n",
       "      <th>Paul Cezanne</th>\n",
       "      <td>499</td>\n",
       "    </tr>\n",
       "    <tr>\n",
       "      <th>Martiros Saryan</th>\n",
       "      <td>499</td>\n",
       "    </tr>\n",
       "    <tr>\n",
       "      <th>Boris Kustodiev</th>\n",
       "      <td>498</td>\n",
       "    </tr>\n",
       "    <tr>\n",
       "      <th>Paul Gauguin</th>\n",
       "      <td>498</td>\n",
       "    </tr>\n",
       "    <tr>\n",
       "      <th>Claude Monet</th>\n",
       "      <td>498</td>\n",
       "    </tr>\n",
       "    <tr>\n",
       "      <th>Raphael Kirchner</th>\n",
       "      <td>497</td>\n",
       "    </tr>\n",
       "    <tr>\n",
       "      <th>Nicholas Roerich</th>\n",
       "      <td>496</td>\n",
       "    </tr>\n",
       "    <tr>\n",
       "      <th>Eugene Boudin</th>\n",
       "      <td>496</td>\n",
       "    </tr>\n",
       "    <tr>\n",
       "      <th>Edgar Degas</th>\n",
       "      <td>495</td>\n",
       "    </tr>\n",
       "    <tr>\n",
       "      <th>Henri Matisse</th>\n",
       "      <td>495</td>\n",
       "    </tr>\n",
       "    <tr>\n",
       "      <th>Vincent van Gogh</th>\n",
       "      <td>494</td>\n",
       "    </tr>\n",
       "    <tr>\n",
       "      <th>Childe Hassam</th>\n",
       "      <td>493</td>\n",
       "    </tr>\n",
       "    <tr>\n",
       "      <th>Camille Corot</th>\n",
       "      <td>488</td>\n",
       "    </tr>\n",
       "    <tr>\n",
       "      <th>Salvador Dali</th>\n",
       "      <td>485</td>\n",
       "    </tr>\n",
       "    <tr>\n",
       "      <th>Theophile Steinlen</th>\n",
       "      <td>485</td>\n",
       "    </tr>\n",
       "    <tr>\n",
       "      <th>Alfred Sisley</th>\n",
       "      <td>464</td>\n",
       "    </tr>\n",
       "    <tr>\n",
       "      <th>...</th>\n",
       "      <td>...</td>\n",
       "    </tr>\n",
       "    <tr>\n",
       "      <th>Brass and Glass</th>\n",
       "      <td>1</td>\n",
       "    </tr>\n",
       "    <tr>\n",
       "      <th>The appearance of a maiden of the Koka era</th>\n",
       "      <td>1</td>\n",
       "    </tr>\n",
       "    <tr>\n",
       "      <th>Plakat</th>\n",
       "      <td>1</td>\n",
       "    </tr>\n",
       "    <tr>\n",
       "      <th>Driven by the spirit</th>\n",
       "      <td>1</td>\n",
       "    </tr>\n",
       "    <tr>\n",
       "      <th>Waking up</th>\n",
       "      <td>1</td>\n",
       "    </tr>\n",
       "    <tr>\n",
       "      <th>The mortally wounded Taira Tomomori with ahuge anchor</th>\n",
       "      <td>1</td>\n",
       "    </tr>\n",
       "    <tr>\n",
       "      <th>Pantalone</th>\n",
       "      <td>1</td>\n",
       "    </tr>\n",
       "    <tr>\n",
       "      <th>The Old Hoover Ranch on the South Fork of the Judith</th>\n",
       "      <td>1</td>\n",
       "    </tr>\n",
       "    <tr>\n",
       "      <th>From Rainday on a Rainy Day</th>\n",
       "      <td>1</td>\n",
       "    </tr>\n",
       "    <tr>\n",
       "      <th>Fuku Zukushi</th>\n",
       "      <td>1</td>\n",
       "    </tr>\n",
       "    <tr>\n",
       "      <th>The Appearance of a Town Geisha, a Bargirl in the Ansei Era</th>\n",
       "      <td>1</td>\n",
       "    </tr>\n",
       "    <tr>\n",
       "      <th>4</th>\n",
       "      <td>1</td>\n",
       "    </tr>\n",
       "    <tr>\n",
       "      <th>the Yield of the Waters)</th>\n",
       "      <td>1</td>\n",
       "    </tr>\n",
       "    <tr>\n",
       "      <th>Havmannen</th>\n",
       "      <td>1</td>\n",
       "    </tr>\n",
       "    <tr>\n",
       "      <th>5.11.07</th>\n",
       "      <td>1</td>\n",
       "    </tr>\n",
       "    <tr>\n",
       "      <th>Untitled XIX</th>\n",
       "      <td>1</td>\n",
       "    </tr>\n",
       "    <tr>\n",
       "      <th>Angelo</th>\n",
       "      <td>1</td>\n",
       "    </tr>\n",
       "    <tr>\n",
       "      <th>Cromer</th>\n",
       "      <td>1</td>\n",
       "    </tr>\n",
       "    <tr>\n",
       "      <th>Cherry blossom viewing</th>\n",
       "      <td>1</td>\n",
       "    </tr>\n",
       "    <tr>\n",
       "      <th>Ida Görz</th>\n",
       "      <td>1</td>\n",
       "    </tr>\n",
       "    <tr>\n",
       "      <th>Preliminary drawing</th>\n",
       "      <td>1</td>\n",
       "    </tr>\n",
       "    <tr>\n",
       "      <th>Cat On A Cushion</th>\n",
       "      <td>1</td>\n",
       "    </tr>\n",
       "    <tr>\n",
       "      <th>∞ /detail 868149-893746</th>\n",
       "      <td>1</td>\n",
       "    </tr>\n",
       "    <tr>\n",
       "      <th>Bucks County</th>\n",
       "      <td>1</td>\n",
       "    </tr>\n",
       "    <tr>\n",
       "      <th>Outside</th>\n",
       "      <td>1</td>\n",
       "    </tr>\n",
       "    <tr>\n",
       "      <th>Cones and Spirals</th>\n",
       "      <td>1</td>\n",
       "    </tr>\n",
       "    <tr>\n",
       "      <th>Ascensão</th>\n",
       "      <td>1</td>\n",
       "    </tr>\n",
       "    <tr>\n",
       "      <th>a By-Path</th>\n",
       "      <td>1</td>\n",
       "    </tr>\n",
       "    <tr>\n",
       "      <th>18</th>\n",
       "      <td>1</td>\n",
       "    </tr>\n",
       "    <tr>\n",
       "      <th>Trees and Plains</th>\n",
       "      <td>1</td>\n",
       "    </tr>\n",
       "  </tbody>\n",
       "</table>\n",
       "<p>2319 rows × 1 columns</p>\n",
       "</div>"
      ],
      "text/plain": [
       "                                                    value_counts\n",
       "col_name                                                        \n",
       "Giovanni Battista Piranesi                                   500\n",
       "Ivan Shishkin                                                500\n",
       "John Singer Sargent                                          500\n",
       "Pierre-Auguste Renoir                                        500\n",
       "Pablo Picasso                                                500\n",
       "Marc Chagall                                                 500\n",
       "Zdislav Beksinski                                            500\n",
       "Ilya Repin                                                   500\n",
       "Rembrandt                                                    500\n",
       "Albrecht Durer                                               500\n",
       "Gustave Dore                                                 500\n",
       "Ivan Aivazovsky                                              500\n",
       "Pyotr Konchalovsky                                           499\n",
       "Camille Pissarro                                             499\n",
       "Paul Cezanne                                                 499\n",
       "Martiros Saryan                                              499\n",
       "Boris Kustodiev                                              498\n",
       "Paul Gauguin                                                 498\n",
       "Claude Monet                                                 498\n",
       "Raphael Kirchner                                             497\n",
       "Nicholas Roerich                                             496\n",
       "Eugene Boudin                                                496\n",
       "Edgar Degas                                                  495\n",
       "Henri Matisse                                                495\n",
       "Vincent van Gogh                                             494\n",
       "Childe Hassam                                                493\n",
       "Camille Corot                                                488\n",
       "Salvador Dali                                                485\n",
       "Theophile Steinlen                                           485\n",
       "Alfred Sisley                                                464\n",
       "...                                                          ...\n",
       "Brass and Glass                                                1\n",
       "The appearance of a maiden of the Koka era                     1\n",
       "Plakat                                                         1\n",
       "Driven by the spirit                                           1\n",
       "Waking up                                                      1\n",
       "The mortally wounded Taira Tomomori with ahuge ...             1\n",
       " Pantalone                                                     1\n",
       "The Old Hoover Ranch on the South Fork of the J...             1\n",
       "From Rainday on a Rainy Day                                    1\n",
       "Fuku Zukushi                                                   1\n",
       "The Appearance of a Town Geisha, a Bargirl in t...             1\n",
       "4                                                              1\n",
       "the Yield of the Waters)                                       1\n",
       "Havmannen                                                      1\n",
       "5.11.07                                                        1\n",
       "Untitled XIX                                                   1\n",
       "Angelo                                                         1\n",
       "Cromer                                                         1\n",
       "Cherry blossom viewing                                         1\n",
       "Ida Görz                                                       1\n",
       "Preliminary drawing                                            1\n",
       "Cat On A Cushion                                               1\n",
       "∞ /detail 868149-893746                                        1\n",
       "Bucks County                                                   1\n",
       "Outside                                                        1\n",
       "Cones and Spirals                                              1\n",
       "Ascensão                                                       1\n",
       "a By-Path                                                      1\n",
       "18                                                             1\n",
       "Trees and Plains                                               1\n",
       "\n",
       "[2319 rows x 1 columns]"
      ]
     },
     "execution_count": 60,
     "metadata": {},
     "output_type": "execute_result"
    }
   ],
   "source": [
    "af.vc_to_df(df['artist'].value_counts())"
   ]
  },
  {
   "cell_type": "markdown",
   "metadata": {},
   "source": [
    "## Importing packages\n",
    "\n",
    "Some useful packages are:\n",
    "\n",
    "- `cv2` which is used for working with images e.g. for resizing \n",
    "- `os` which is used to work with directories\n",
    "- `tqdm` which shows a percentage bar for tasks\n",
    "- `PIL` (Python Imaging Library) which is used for opening/manipulating/saving image files"
   ]
  },
  {
   "cell_type": "code",
   "execution_count": 3,
   "metadata": {},
   "outputs": [],
   "source": [
    "import numpy as np\n",
    "import matplotlib.pyplot as plt\n",
    "import aux_func as af # the library contains useful auxiliar functions\n",
    "%matplotlib inline\n",
    "\n",
    "from PIL import Image, ImageFilter\n",
    "import random\n",
    "import cv2, os\n",
    "seed = 42\n",
    "np.random.seed(seed)\n",
    "from tqdm import tqdm"
   ]
  },
  {
   "cell_type": "markdown",
   "metadata": {},
   "source": [
    "#### Are there null values?\n",
    "\n",
    "From below we see that there are no null values in `df`."
   ]
  },
  {
   "cell_type": "code",
   "execution_count": 4,
   "metadata": {},
   "outputs": [
    {
     "data": {
      "text/html": [
       "<div>\n",
       "<style scoped>\n",
       "    .dataframe tbody tr th:only-of-type {\n",
       "        vertical-align: middle;\n",
       "    }\n",
       "\n",
       "    .dataframe tbody tr th {\n",
       "        vertical-align: top;\n",
       "    }\n",
       "\n",
       "    .dataframe thead th {\n",
       "        text-align: right;\n",
       "    }\n",
       "</style>\n",
       "<table border=\"1\" class=\"dataframe\">\n",
       "  <thead>\n",
       "    <tr style=\"text-align: right;\">\n",
       "      <th></th>\n",
       "      <th>value_counts</th>\n",
       "    </tr>\n",
       "    <tr>\n",
       "      <th>col_name</th>\n",
       "      <th></th>\n",
       "    </tr>\n",
       "  </thead>\n",
       "  <tbody>\n",
       "    <tr>\n",
       "      <th>artist</th>\n",
       "      <td>False</td>\n",
       "    </tr>\n",
       "    <tr>\n",
       "      <th>in_train</th>\n",
       "      <td>False</td>\n",
       "    </tr>\n",
       "    <tr>\n",
       "      <th>new_filename</th>\n",
       "      <td>False</td>\n",
       "    </tr>\n",
       "  </tbody>\n",
       "</table>\n",
       "</div>"
      ],
      "text/plain": [
       "              value_counts\n",
       "col_name                  \n",
       "artist               False\n",
       "in_train             False\n",
       "new_filename         False"
      ]
     },
     "execution_count": 4,
     "metadata": {},
     "output_type": "execute_result"
    }
   ],
   "source": [
    "# The function `vc_to_df` converts the value_counts Series into a DataFrame\n",
    "af.vc_to_df(df.isnull().any())   "
   ]
  },
  {
   "cell_type": "markdown",
   "metadata": {},
   "source": [
    "In the next cell I do the following steps:\n",
    "- Split the dataframe into train and test dataframes using the column `in_train`\n",
    "- Drop the `in_train` column from the `train` and `test` dataframes"
   ]
  },
  {
   "cell_type": "markdown",
   "metadata": {},
   "source": [
    "## Choosing artists with a minimum number of paintings "
   ]
  },
  {
   "cell_type": "code",
   "execution_count": 31,
   "metadata": {},
   "outputs": [
    {
     "data": {
      "text/html": [
       "<div>\n",
       "<style scoped>\n",
       "    .dataframe tbody tr th:only-of-type {\n",
       "        vertical-align: middle;\n",
       "    }\n",
       "\n",
       "    .dataframe tbody tr th {\n",
       "        vertical-align: top;\n",
       "    }\n",
       "\n",
       "    .dataframe thead th {\n",
       "        text-align: right;\n",
       "    }\n",
       "</style>\n",
       "<table border=\"1\" class=\"dataframe\">\n",
       "  <thead>\n",
       "    <tr style=\"text-align: right;\">\n",
       "      <th></th>\n",
       "      <th>artist</th>\n",
       "      <th>in_train</th>\n",
       "      <th>new_filename</th>\n",
       "    </tr>\n",
       "  </thead>\n",
       "  <tbody>\n",
       "    <tr>\n",
       "      <th>14</th>\n",
       "      <td>Ivan Aivazovsky</td>\n",
       "      <td>True</td>\n",
       "      <td>99442.jpg</td>\n",
       "    </tr>\n",
       "    <tr>\n",
       "      <th>28</th>\n",
       "      <td>Gustave Dore</td>\n",
       "      <td>True</td>\n",
       "      <td>7486.jpg</td>\n",
       "    </tr>\n",
       "    <tr>\n",
       "      <th>29</th>\n",
       "      <td>Gustave Dore</td>\n",
       "      <td>True</td>\n",
       "      <td>35766.jpg</td>\n",
       "    </tr>\n",
       "    <tr>\n",
       "      <th>34</th>\n",
       "      <td>Gustave Dore</td>\n",
       "      <td>False</td>\n",
       "      <td>31977.jpg</td>\n",
       "    </tr>\n",
       "    <tr>\n",
       "      <th>54</th>\n",
       "      <td>Odilon Redon</td>\n",
       "      <td>True</td>\n",
       "      <td>29331.jpg</td>\n",
       "    </tr>\n",
       "  </tbody>\n",
       "</table>\n",
       "</div>"
      ],
      "text/plain": [
       "             artist  in_train new_filename\n",
       "14  Ivan Aivazovsky      True    99442.jpg\n",
       "28     Gustave Dore      True     7486.jpg\n",
       "29     Gustave Dore      True    35766.jpg\n",
       "34     Gustave Dore     False    31977.jpg\n",
       "54     Odilon Redon      True    29331.jpg"
      ]
     },
     "execution_count": 31,
     "metadata": {},
     "output_type": "execute_result"
    },
    {
     "name": "stdout",
     "output_type": "stream",
     "text": [
      "1) There are 37 painters with 400 or more paintings\n",
      "\n",
      "2) The artists are with 400 or more paintings are:\n",
      "\n",
      "['John Singer Sargent', 'Ivan Shishkin', 'Marc Chagall', 'Gustave Dore', 'Rembrandt', 'Albrecht Durer', 'Pablo Picasso', 'Ilya Repin', 'Giovanni Battista Piranesi', 'Ivan Aivazovsky', 'Pierre-Auguste Renoir', 'Zdislav Beksinski', 'Pyotr Konchalovsky', 'Camille Pissarro', 'Martiros Saryan', 'Paul Cezanne', 'Claude Monet', 'Boris Kustodiev', 'Paul Gauguin', 'Raphael Kirchner', 'Nicholas Roerich', 'Eugene Boudin', 'Edgar Degas', 'Henri Matisse', 'Vincent van Gogh', 'Childe Hassam', 'Camille Corot', 'Theophile Steinlen', 'Salvador Dali', 'Alfred Sisley', 'Odilon Redon', 'Isaac Levitan', 'Fernand Leger', 'James Tissot', 'Eyvind Earle', 'Zinaida Serebriakova', 'Henri Martin'] \n",
      "\n",
      "The number of rows (i.e. the number of paintings) in the reduced dataset is now 17881\n"
     ]
    }
   ],
   "source": [
    "# The function threshold keeps only artists with minimum number of painters\n",
    "minimum = 400 \n",
    "df = af.threshold(df,'artist',minimum)\n",
    "df.head()\n",
    "print(\"1) There are {}\".format(df['artist'].nunique()),\n",
    "      'painters with {} or more paintings\\n'.format(minimum))\n",
    "print('2) The artists are with {} or more paintings are:\\n'.format(minimum))\n",
    "artists = list(df['artist'].value_counts().index)\n",
    "print(artists,'\\n')\n",
    "df_new = df[df['artist'].isin(artists)]   # another way to build the new df\n",
    "print('The number of rows (i.e. the number of paintings) in the reduced dataset is now', df_new.shape[0])"
   ]
  },
  {
   "cell_type": "markdown",
   "metadata": {},
   "source": [
    "### Separating the dataset into training and testing sets"
   ]
  },
  {
   "cell_type": "code",
   "execution_count": 81,
   "metadata": {},
   "outputs": [
    {
     "name": "stdout",
     "output_type": "stream",
     "text": [
      "The number of rows in the training set is: 13691 \n",
      "\n",
      "The number of paintings per painter in the training set is:\n",
      "\n"
     ]
    },
    {
     "data": {
      "text/html": [
       "<div>\n",
       "<style scoped>\n",
       "    .dataframe tbody tr th:only-of-type {\n",
       "        vertical-align: middle;\n",
       "    }\n",
       "\n",
       "    .dataframe tbody tr th {\n",
       "        vertical-align: top;\n",
       "    }\n",
       "\n",
       "    .dataframe thead th {\n",
       "        text-align: right;\n",
       "    }\n",
       "</style>\n",
       "<table border=\"1\" class=\"dataframe\">\n",
       "  <thead>\n",
       "    <tr style=\"text-align: right;\">\n",
       "      <th></th>\n",
       "      <th>value_counts</th>\n",
       "    </tr>\n",
       "    <tr>\n",
       "      <th>col_name</th>\n",
       "      <th></th>\n",
       "    </tr>\n",
       "  </thead>\n",
       "  <tbody>\n",
       "    <tr>\n",
       "      <th>Paul Cezanne</th>\n",
       "      <td>412</td>\n",
       "    </tr>\n",
       "    <tr>\n",
       "      <th>Giovanni Battista Piranesi</th>\n",
       "      <td>402</td>\n",
       "    </tr>\n",
       "    <tr>\n",
       "      <th>Martiros Saryan</th>\n",
       "      <td>399</td>\n",
       "    </tr>\n",
       "    <tr>\n",
       "      <th>Ilya Repin</th>\n",
       "      <td>397</td>\n",
       "    </tr>\n",
       "    <tr>\n",
       "      <th>Camille Pissarro</th>\n",
       "      <td>393</td>\n",
       "    </tr>\n",
       "    <tr>\n",
       "      <th>Vincent van Gogh</th>\n",
       "      <td>392</td>\n",
       "    </tr>\n",
       "    <tr>\n",
       "      <th>Theophile Steinlen</th>\n",
       "      <td>389</td>\n",
       "    </tr>\n",
       "    <tr>\n",
       "      <th>Pyotr Konchalovsky</th>\n",
       "      <td>388</td>\n",
       "    </tr>\n",
       "    <tr>\n",
       "      <th>Pierre-Auguste Renoir</th>\n",
       "      <td>388</td>\n",
       "    </tr>\n",
       "    <tr>\n",
       "      <th>Boris Kustodiev</th>\n",
       "      <td>388</td>\n",
       "    </tr>\n",
       "    <tr>\n",
       "      <th>Camille Corot</th>\n",
       "      <td>387</td>\n",
       "    </tr>\n",
       "    <tr>\n",
       "      <th>Eugene Boudin</th>\n",
       "      <td>387</td>\n",
       "    </tr>\n",
       "    <tr>\n",
       "      <th>Gustave Dore</th>\n",
       "      <td>387</td>\n",
       "    </tr>\n",
       "    <tr>\n",
       "      <th>Edgar Degas</th>\n",
       "      <td>387</td>\n",
       "    </tr>\n",
       "    <tr>\n",
       "      <th>Henri Matisse</th>\n",
       "      <td>384</td>\n",
       "    </tr>\n",
       "    <tr>\n",
       "      <th>Albrecht Durer</th>\n",
       "      <td>383</td>\n",
       "    </tr>\n",
       "    <tr>\n",
       "      <th>Claude Monet</th>\n",
       "      <td>383</td>\n",
       "    </tr>\n",
       "    <tr>\n",
       "      <th>Ivan Aivazovsky</th>\n",
       "      <td>378</td>\n",
       "    </tr>\n",
       "    <tr>\n",
       "      <th>John Singer Sargent</th>\n",
       "      <td>377</td>\n",
       "    </tr>\n",
       "    <tr>\n",
       "      <th>Pablo Picasso</th>\n",
       "      <td>377</td>\n",
       "    </tr>\n",
       "    <tr>\n",
       "      <th>Rembrandt</th>\n",
       "      <td>376</td>\n",
       "    </tr>\n",
       "    <tr>\n",
       "      <th>Zdislav Beksinski</th>\n",
       "      <td>376</td>\n",
       "    </tr>\n",
       "    <tr>\n",
       "      <th>Childe Hassam</th>\n",
       "      <td>375</td>\n",
       "    </tr>\n",
       "    <tr>\n",
       "      <th>Paul Gauguin</th>\n",
       "      <td>373</td>\n",
       "    </tr>\n",
       "    <tr>\n",
       "      <th>Nicholas Roerich</th>\n",
       "      <td>369</td>\n",
       "    </tr>\n",
       "    <tr>\n",
       "      <th>Ivan Shishkin</th>\n",
       "      <td>367</td>\n",
       "    </tr>\n",
       "    <tr>\n",
       "      <th>Marc Chagall</th>\n",
       "      <td>367</td>\n",
       "    </tr>\n",
       "    <tr>\n",
       "      <th>Odilon Redon</th>\n",
       "      <td>360</td>\n",
       "    </tr>\n",
       "    <tr>\n",
       "      <th>Raphael Kirchner</th>\n",
       "      <td>357</td>\n",
       "    </tr>\n",
       "    <tr>\n",
       "      <th>Alfred Sisley</th>\n",
       "      <td>356</td>\n",
       "    </tr>\n",
       "    <tr>\n",
       "      <th>Salvador Dali</th>\n",
       "      <td>348</td>\n",
       "    </tr>\n",
       "    <tr>\n",
       "      <th>Fernand Leger</th>\n",
       "      <td>345</td>\n",
       "    </tr>\n",
       "    <tr>\n",
       "      <th>Isaac Levitan</th>\n",
       "      <td>321</td>\n",
       "    </tr>\n",
       "    <tr>\n",
       "      <th>Eyvind Earle</th>\n",
       "      <td>320</td>\n",
       "    </tr>\n",
       "    <tr>\n",
       "      <th>Zinaida Serebriakova</th>\n",
       "      <td>304</td>\n",
       "    </tr>\n",
       "    <tr>\n",
       "      <th>James Tissot</th>\n",
       "      <td>304</td>\n",
       "    </tr>\n",
       "    <tr>\n",
       "      <th>Henri Martin</th>\n",
       "      <td>295</td>\n",
       "    </tr>\n",
       "  </tbody>\n",
       "</table>\n",
       "</div>"
      ],
      "text/plain": [
       "                            value_counts\n",
       "col_name                                \n",
       "Paul Cezanne                         412\n",
       "Giovanni Battista Piranesi           402\n",
       "Martiros Saryan                      399\n",
       "Ilya Repin                           397\n",
       "Camille Pissarro                     393\n",
       "Vincent van Gogh                     392\n",
       "Theophile Steinlen                   389\n",
       "Pyotr Konchalovsky                   388\n",
       "Pierre-Auguste Renoir                388\n",
       "Boris Kustodiev                      388\n",
       "Camille Corot                        387\n",
       "Eugene Boudin                        387\n",
       "Gustave Dore                         387\n",
       "Edgar Degas                          387\n",
       "Henri Matisse                        384\n",
       "Albrecht Durer                       383\n",
       "Claude Monet                         383\n",
       "Ivan Aivazovsky                      378\n",
       "John Singer Sargent                  377\n",
       "Pablo Picasso                        377\n",
       "Rembrandt                            376\n",
       "Zdislav Beksinski                    376\n",
       "Childe Hassam                        375\n",
       "Paul Gauguin                         373\n",
       "Nicholas Roerich                     369\n",
       "Ivan Shishkin                        367\n",
       "Marc Chagall                         367\n",
       "Odilon Redon                         360\n",
       "Raphael Kirchner                     357\n",
       "Alfred Sisley                        356\n",
       "Salvador Dali                        348\n",
       "Fernand Leger                        345\n",
       "Isaac Levitan                        321\n",
       "Eyvind Earle                         320\n",
       "Zinaida Serebriakova                 304\n",
       "James Tissot                         304\n",
       "Henri Martin                         295"
      ]
     },
     "execution_count": 81,
     "metadata": {},
     "output_type": "execute_result"
    },
    {
     "name": "stdout",
     "output_type": "stream",
     "text": [
      "The number of rows in the testing set is: 4190 \n",
      "\n",
      "The number of paintings per painter in the testing set is:\n",
      "\n"
     ]
    },
    {
     "data": {
      "text/html": [
       "<div>\n",
       "<style scoped>\n",
       "    .dataframe tbody tr th:only-of-type {\n",
       "        vertical-align: middle;\n",
       "    }\n",
       "\n",
       "    .dataframe tbody tr th {\n",
       "        vertical-align: top;\n",
       "    }\n",
       "\n",
       "    .dataframe thead th {\n",
       "        text-align: right;\n",
       "    }\n",
       "</style>\n",
       "<table border=\"1\" class=\"dataframe\">\n",
       "  <thead>\n",
       "    <tr style=\"text-align: right;\">\n",
       "      <th></th>\n",
       "      <th>value_counts</th>\n",
       "    </tr>\n",
       "    <tr>\n",
       "      <th>col_name</th>\n",
       "      <th></th>\n",
       "    </tr>\n",
       "  </thead>\n",
       "  <tbody>\n",
       "    <tr>\n",
       "      <th>Raphael Kirchner</th>\n",
       "      <td>140</td>\n",
       "    </tr>\n",
       "    <tr>\n",
       "      <th>Salvador Dali</th>\n",
       "      <td>137</td>\n",
       "    </tr>\n",
       "    <tr>\n",
       "      <th>Marc Chagall</th>\n",
       "      <td>133</td>\n",
       "    </tr>\n",
       "    <tr>\n",
       "      <th>Ivan Shishkin</th>\n",
       "      <td>133</td>\n",
       "    </tr>\n",
       "    <tr>\n",
       "      <th>Isaac Levitan</th>\n",
       "      <td>128</td>\n",
       "    </tr>\n",
       "    <tr>\n",
       "      <th>Nicholas Roerich</th>\n",
       "      <td>127</td>\n",
       "    </tr>\n",
       "    <tr>\n",
       "      <th>Paul Gauguin</th>\n",
       "      <td>125</td>\n",
       "    </tr>\n",
       "    <tr>\n",
       "      <th>Zdislav Beksinski</th>\n",
       "      <td>124</td>\n",
       "    </tr>\n",
       "    <tr>\n",
       "      <th>Rembrandt</th>\n",
       "      <td>124</td>\n",
       "    </tr>\n",
       "    <tr>\n",
       "      <th>Pablo Picasso</th>\n",
       "      <td>123</td>\n",
       "    </tr>\n",
       "    <tr>\n",
       "      <th>John Singer Sargent</th>\n",
       "      <td>123</td>\n",
       "    </tr>\n",
       "    <tr>\n",
       "      <th>James Tissot</th>\n",
       "      <td>123</td>\n",
       "    </tr>\n",
       "    <tr>\n",
       "      <th>Ivan Aivazovsky</th>\n",
       "      <td>122</td>\n",
       "    </tr>\n",
       "    <tr>\n",
       "      <th>Childe Hassam</th>\n",
       "      <td>118</td>\n",
       "    </tr>\n",
       "    <tr>\n",
       "      <th>Albrecht Durer</th>\n",
       "      <td>117</td>\n",
       "    </tr>\n",
       "    <tr>\n",
       "      <th>Claude Monet</th>\n",
       "      <td>115</td>\n",
       "    </tr>\n",
       "    <tr>\n",
       "      <th>Gustave Dore</th>\n",
       "      <td>113</td>\n",
       "    </tr>\n",
       "    <tr>\n",
       "      <th>Pierre-Auguste Renoir</th>\n",
       "      <td>112</td>\n",
       "    </tr>\n",
       "    <tr>\n",
       "      <th>Henri Matisse</th>\n",
       "      <td>111</td>\n",
       "    </tr>\n",
       "    <tr>\n",
       "      <th>Pyotr Konchalovsky</th>\n",
       "      <td>111</td>\n",
       "    </tr>\n",
       "    <tr>\n",
       "      <th>Boris Kustodiev</th>\n",
       "      <td>110</td>\n",
       "    </tr>\n",
       "    <tr>\n",
       "      <th>Henri Martin</th>\n",
       "      <td>110</td>\n",
       "    </tr>\n",
       "    <tr>\n",
       "      <th>Eugene Boudin</th>\n",
       "      <td>109</td>\n",
       "    </tr>\n",
       "    <tr>\n",
       "      <th>Alfred Sisley</th>\n",
       "      <td>108</td>\n",
       "    </tr>\n",
       "    <tr>\n",
       "      <th>Zinaida Serebriakova</th>\n",
       "      <td>108</td>\n",
       "    </tr>\n",
       "    <tr>\n",
       "      <th>Edgar Degas</th>\n",
       "      <td>108</td>\n",
       "    </tr>\n",
       "    <tr>\n",
       "      <th>Camille Pissarro</th>\n",
       "      <td>106</td>\n",
       "    </tr>\n",
       "    <tr>\n",
       "      <th>Ilya Repin</th>\n",
       "      <td>103</td>\n",
       "    </tr>\n",
       "    <tr>\n",
       "      <th>Eyvind Earle</th>\n",
       "      <td>102</td>\n",
       "    </tr>\n",
       "    <tr>\n",
       "      <th>Vincent van Gogh</th>\n",
       "      <td>102</td>\n",
       "    </tr>\n",
       "    <tr>\n",
       "      <th>Camille Corot</th>\n",
       "      <td>101</td>\n",
       "    </tr>\n",
       "    <tr>\n",
       "      <th>Martiros Saryan</th>\n",
       "      <td>100</td>\n",
       "    </tr>\n",
       "    <tr>\n",
       "      <th>Giovanni Battista Piranesi</th>\n",
       "      <td>98</td>\n",
       "    </tr>\n",
       "    <tr>\n",
       "      <th>Theophile Steinlen</th>\n",
       "      <td>96</td>\n",
       "    </tr>\n",
       "    <tr>\n",
       "      <th>Fernand Leger</th>\n",
       "      <td>92</td>\n",
       "    </tr>\n",
       "    <tr>\n",
       "      <th>Odilon Redon</th>\n",
       "      <td>91</td>\n",
       "    </tr>\n",
       "    <tr>\n",
       "      <th>Paul Cezanne</th>\n",
       "      <td>87</td>\n",
       "    </tr>\n",
       "  </tbody>\n",
       "</table>\n",
       "</div>"
      ],
      "text/plain": [
       "                            value_counts\n",
       "col_name                                \n",
       "Raphael Kirchner                     140\n",
       "Salvador Dali                        137\n",
       "Marc Chagall                         133\n",
       "Ivan Shishkin                        133\n",
       "Isaac Levitan                        128\n",
       "Nicholas Roerich                     127\n",
       "Paul Gauguin                         125\n",
       "Zdislav Beksinski                    124\n",
       "Rembrandt                            124\n",
       "Pablo Picasso                        123\n",
       "John Singer Sargent                  123\n",
       "James Tissot                         123\n",
       "Ivan Aivazovsky                      122\n",
       "Childe Hassam                        118\n",
       "Albrecht Durer                       117\n",
       "Claude Monet                         115\n",
       "Gustave Dore                         113\n",
       "Pierre-Auguste Renoir                112\n",
       "Henri Matisse                        111\n",
       "Pyotr Konchalovsky                   111\n",
       "Boris Kustodiev                      110\n",
       "Henri Martin                         110\n",
       "Eugene Boudin                        109\n",
       "Alfred Sisley                        108\n",
       "Zinaida Serebriakova                 108\n",
       "Edgar Degas                          108\n",
       "Camille Pissarro                     106\n",
       "Ilya Repin                           103\n",
       "Eyvind Earle                         102\n",
       "Vincent van Gogh                     102\n",
       "Camille Corot                        101\n",
       "Martiros Saryan                      100\n",
       "Giovanni Battista Piranesi            98\n",
       "Theophile Steinlen                    96\n",
       "Fernand Leger                         92\n",
       "Odilon Redon                          91\n",
       "Paul Cezanne                          87"
      ]
     },
     "execution_count": 81,
     "metadata": {},
     "output_type": "execute_result"
    },
    {
     "name": "stdout",
     "output_type": "stream",
     "text": [
      "The ratio of rows in the training and testing sets is approximately 13 : 4\n"
     ]
    }
   ],
   "source": [
    "train = df_new[df_new['in_train'] == True].drop(['in_train'],axis=1)\n",
    "print('The number of rows in the training set is:',train.shape[0],'\\n')\n",
    "print('The number of paintings per painter in the training set is:\\n')\n",
    "af.vc_to_df(train['artist'].value_counts())\n",
    "test = df_new[df_new['in_train'] == False].drop(['in_train'],axis=1)\n",
    "print('The number of rows in the testing set is:',test.shape[0],'\\n')\n",
    "print('The number of paintings per painter in the testing set is:\\n')\n",
    "af.vc_to_df(test['artist'].value_counts())\n",
    "\n",
    "print('The ratio of rows in the training and testing sets is approximately',\n",
    "      int(round(100*train.shape[0]/df.shape[0],0)),\n",
    "      ':',int(round(100*test.shape[0]/df.shape[0],0)))"
   ]
  },
  {
   "cell_type": "markdown",
   "metadata": {},
   "source": [
    "\n",
    "### Organizing and preprocessing the data\n",
    "\n",
    "There are two steps here:\n",
    "- The images from Wikiart had a extremely large number of pixels so I wrote a simple function `preprocess( )` to resize the images. Furthermore, I believe that the style of the painter is present everywhere in the painting, so cropping shouldn't cause major problems.\n",
    "- The training and testing files were in two separate folders. I created, within each of these two folders, sub-folders corresponding to each painter. This was done to prepare the date in the shape required by the ConvNet model (more on this later)"
   ]
  },
  {
   "cell_type": "markdown",
   "metadata": {},
   "source": [
    "#### Side note\n",
    "\n",
    "First, a few comments regarding the use of the `os` library and `PIL` package:\n",
    "- `os.path.join` constructs a pathname out of partial pathnames\n",
    "- `os.path.abspath` transforms a general pathname into a full pathname. \n",
    "- `os.listdir(PATH)` returns a list containing the names of the files in the directory given by PATH.\n",
    "- `Image.open` converts a string (a path in this case) into a PIL image:\n",
    "\n",
    "      /Users/marcotavora/capstone_phase_2/trainsetnew/1.jpg --> PIL.JpegImagePlugin.JpegImageFile\n",
    "\n",
    "#### Location of the files\n",
    "\n",
    "The training data, without splitting into sub-folders was located at the directory:\n",
    "\n",
    "    /Users/marcotavora/capstone_phase_2/trainsetnew. \n",
    "    \n",
    "The testing data was in:\n",
    "\n",
    "    /Users/marcotavora/capstone_phase_2/testsetnew \n",
    "   "
   ]
  },
  {
   "cell_type": "code",
   "execution_count": 82,
   "metadata": {},
   "outputs": [
    {
     "name": "stdout",
     "output_type": "stream",
     "text": [
      "The training data is in the folder: /Users/marcotavora/capstone_phase_2/trainsetnew\n",
      "The testing data is in the folder: /Users/marcotavora/capstone_phase_2/testsetnew\n"
     ]
    }
   ],
   "source": [
    "PATH = os.path.abspath('./trainsetnew')\n",
    "PATHTEST = os.path.abspath('./testsetnew')\n",
    "print('The training data is in the folder:',PATH)\n",
    "print('The testing data is in the folder:',PATHTEST)"
   ]
  },
  {
   "cell_type": "markdown",
   "metadata": {},
   "source": [
    "### Image resizing"
   ]
  },
  {
   "cell_type": "markdown",
   "metadata": {},
   "source": [
    "The `preprocess` function below reads files from one folder (i.e. one path), resizes them (keeping images in RGB) and copy them into another folder. A few commentaries about the function:\n",
    "- It would stop when finding a file that, if unpacked, would lead to a \"decompression bomb\". The first line of the function prevents that from happening.\n",
    "- The `for` will loop over the images file names contained in the list of files with names `os.listdir(PATH)`. For example for the original training set this is:\n",
    "\n",
    "        os.listdir(PATHTRAIN) = ['1.jpg', '10.jpg',...]\n",
    "        \n",
    "- `Image.open` opens the image."
   ]
  },
  {
   "cell_type": "code",
   "execution_count": 34,
   "metadata": {
    "scrolled": true
   },
   "outputs": [
    {
     "data": {
      "image/png": "[encoded data removed]",
      "text/plain": [
       "<PIL.JpegImagePlugin.JpegImageFile image mode=RGB size=256x256 at 0x13155B048>"
      ]
     },
     "execution_count": 34,
     "metadata": {},
     "output_type": "execute_result"
    }
   ],
   "source": [
    "Image.open('/Users/marcotavora/capstone_phase_2/trainsetnew/70.jpg')"
   ]
  },
  {
   "cell_type": "markdown",
   "metadata": {},
   "source": [
    "- Then `img.resize` will resize the images into the dimension we choose\n",
    "- To save the new image into another \"dump\" folder I use\n",
    "\n",
    "        .save(os.path.join(PATHDUMP, image_filename))\n",
    "    \n",
    "- The `try` and `except` is used to control for images that cannot be resized\n",
    "- Before resizing the files, we must first create the new directory to which the resized images will be sent using:\n",
    "\n",
    "        #%mkdir new_directory"
   ]
  },
  {
   "cell_type": "code",
   "execution_count": null,
   "metadata": {},
   "outputs": [],
   "source": [
    "# def preprocess(size,PATH,PATHDUMP):\n",
    "#     Image.MAX_IMAGE_PIXELS = None  \n",
    "#     for image_filename in tqdm(os.listdir(PATH)):\n",
    "#         img = Image.open(os.path.join(PATH, \n",
    "#                                       image_filename))                       \n",
    "#         try:\n",
    "#             img.resize((size, size))\\\n",
    "#             .convert('RGB')\\\n",
    "#             .save(os.path.join(PATHDUMP, \n",
    "#                                image_filename))\n",
    "#         except Exception as e:\n",
    "#             print(\"Unable to process {}\".format(image_filename))\n",
    "#             print(e)"
   ]
  },
  {
   "cell_type": "markdown",
   "metadata": {},
   "source": [
    "- Defining the variables containing the original path and the path that will contain the resized images as. Suppose the file containing the images we want to resize is called `./train_9` and we want to dump the resized images into `./trainnew_9`. The path names are:\n",
    "\n",
    "        PATH = os.path.abspath('./train_9') = '/Users/marcotavora/capstone_phase_2/train_9'\n",
    "        PATHDUMP = os.path.abspath('./trainnew_9') = '/Users/marcotavora/capstone_phase_2/trainnew_9'\n",
    "    \n",
    "- If we want to resize the images into 256 by 256 pixels we run:\n",
    "\n",
    "        preprocess(256,PATH,PATHDUMP)\n",
    "\n",
    "- The next step is to move the resized files inside `/Users/marcotavora/capstone_phase_2/trainnew_9` into the folder `trainsetnew/` containing the rest of the training set:\n",
    "\n",
    "        #!mv trainnew_9/* trainsetnew/\n",
    "   \n",
    "### Comparing painters in training and testing sets\n",
    "\n",
    "We can check if the painters in the train and test sets are the same:"
   ]
  },
  {
   "cell_type": "code",
   "execution_count": 83,
   "metadata": {},
   "outputs": [
    {
     "name": "stdout",
     "output_type": "stream",
     "text": [
      "Are the same painters in both sets: True \n",
      "\n",
      "Painters in the training set:\n",
      " ['Albrecht Durer', 'Alfred Sisley', 'Boris Kustodiev', 'Camille Corot', 'Camille Pissarro', 'Childe Hassam', 'Claude Monet', 'Edgar Degas', 'Eugene Boudin', 'Eyvind Earle', 'Fernand Leger', 'Giovanni Battista Piranesi', 'Gustave Dore', 'Henri Martin', 'Henri Matisse', 'Ilya Repin', 'Isaac Levitan', 'Ivan Aivazovsky', 'Ivan Shishkin', 'James Tissot', 'John Singer Sargent', 'Marc Chagall', 'Martiros Saryan', 'Nicholas Roerich', 'Odilon Redon', 'Pablo Picasso', 'Paul Cezanne', 'Paul Gauguin', 'Pierre-Auguste Renoir', 'Pyotr Konchalovsky', 'Raphael Kirchner', 'Rembrandt', 'Salvador Dali', 'Theophile Steinlen', 'Vincent van Gogh', 'Zdislav Beksinski', 'Zinaida Serebriakova'] \n",
      "\n",
      "Painters in the test set:\n",
      " ['Albrecht Durer', 'Alfred Sisley', 'Boris Kustodiev', 'Camille Corot', 'Camille Pissarro', 'Childe Hassam', 'Claude Monet', 'Edgar Degas', 'Eugene Boudin', 'Eyvind Earle', 'Fernand Leger', 'Giovanni Battista Piranesi', 'Gustave Dore', 'Henri Martin', 'Henri Matisse', 'Ilya Repin', 'Isaac Levitan', 'Ivan Aivazovsky', 'Ivan Shishkin', 'James Tissot', 'John Singer Sargent', 'Marc Chagall', 'Martiros Saryan', 'Nicholas Roerich', 'Odilon Redon', 'Pablo Picasso', 'Paul Cezanne', 'Paul Gauguin', 'Pierre-Auguste Renoir', 'Pyotr Konchalovsky', 'Raphael Kirchner', 'Rembrandt', 'Salvador Dali', 'Theophile Steinlen', 'Vincent van Gogh', 'Zdislav Beksinski', 'Zinaida Serebriakova'] \n",
      "\n"
     ]
    },
    {
     "data": {
      "text/plain": [
       "37"
      ]
     },
     "execution_count": 83,
     "metadata": {},
     "output_type": "execute_result"
    }
   ],
   "source": [
    "print('Are the same painters in both sets:',\n",
    "      sorted(list(train['artist'].unique())) == sorted(list(test['artist'].unique())),'\\n')\n",
    "print('Painters in the training set:\\n',sorted(list(train['artist'].unique())),'\\n')\n",
    "print('Painters in the test set:\\n',sorted(list(test['artist'].unique())),'\\n')\n",
    "len(sorted(list(train['artist'].unique())))"
   ]
  },
  {
   "cell_type": "markdown",
   "metadata": {},
   "source": [
    "### Filtering train and test folders\n",
    "\n",
    "- I will create training and testing folders containing only images present in the dataframe (to check for mistakes in the dataframe versus the images in the folders). I will first created two new empty folders:\n",
    "\n",
    "        %mkdir './train_400'\n",
    "        %mkdir './test_400'\n",
    "        \n",
    "- The following lists contain the name of the paintings in the training and testing sets:"
   ]
  },
  {
   "cell_type": "code",
   "execution_count": 33,
   "metadata": {},
   "outputs": [],
   "source": [
    "#%mkdir './train_400'\n",
    "#%mkdir './test_400'"
   ]
  },
  {
   "cell_type": "code",
   "execution_count": 84,
   "metadata": {},
   "outputs": [
    {
     "data": {
      "text/plain": [
       "13691"
      ]
     },
     "execution_count": 84,
     "metadata": {},
     "output_type": "execute_result"
    },
    {
     "data": {
      "text/plain": [
       "4190"
      ]
     },
     "execution_count": 84,
     "metadata": {},
     "output_type": "execute_result"
    }
   ],
   "source": [
    "train_painting_list = list(train['new_filename'])\n",
    "test_painting_list = list(test['new_filename'])\n",
    "len(train_painting_list)\n",
    "len(test_painting_list)"
   ]
  },
  {
   "cell_type": "markdown",
   "metadata": {},
   "source": [
    "- The following function creates the folders with the restricted set of painters:"
   ]
  },
  {
   "cell_type": "code",
   "execution_count": 89,
   "metadata": {},
   "outputs": [],
   "source": [
    "def filtered_folder_maker(PATH,PATHDUMP,lst):\n",
    "    for image_filename in tqdm(os.listdir(PATH)[1:]):\n",
    "        img = Image.open(os.path.join(PATH,image_filename))  \n",
    "        if image_filename in lst:\n",
    "            try:\n",
    "                img.save(os.path.join(PATHDUMP,image_filename)) \n",
    "            except Exception as e:\n",
    "                print(\"Unable to transfer {}\".format(image_filename))\n",
    "                print(e)"
   ]
  },
  {
   "cell_type": "code",
   "execution_count": 51,
   "metadata": {},
   "outputs": [
    {
     "name": "stderr",
     "output_type": "stream",
     "text": [
      "100%|██████████| 79447/79447 [03:54<00:00, 339.46it/s]\n"
     ]
    }
   ],
   "source": [
    "# 74969.jpg has no size so I manually excluded it\n",
    "#PATH = os.path.abspath('./trainsetnew')\n",
    "#PATHDUMP = os.path.abspath('./train_400')\n",
    "#filtered_folder_maker(PATH,PATHDUMP,train_painting_list)"
   ]
  },
  {
   "cell_type": "code",
   "execution_count": 18,
   "metadata": {},
   "outputs": [
    {
     "name": "stderr",
     "output_type": "stream",
     "text": [
      "100%|██████████| 23813/23813 [00:56<00:00, 419.67it/s]\n"
     ]
    }
   ],
   "source": [
    "#PATHTEST = os.path.abspath('./testsetnew')\n",
    "#PATHDUMPTEST = os.path.abspath('./test_400')\n",
    "#filtered_folder_maker(PATHTEST,PATHDUMPTEST,test_painting_list)"
   ]
  },
  {
   "cell_type": "markdown",
   "metadata": {},
   "source": [
    "#### Checking lengths (for sanity)  PROBLEM"
   ]
  },
  {
   "cell_type": "code",
   "execution_count": 86,
   "metadata": {},
   "outputs": [
    {
     "data": {
      "text/plain": [
       "(13690, 13691)"
      ]
     },
     "execution_count": 86,
     "metadata": {},
     "output_type": "execute_result"
    }
   ],
   "source": [
    "len(os.listdir(os.path.abspath('./train_400'))),len(train_painting_list)"
   ]
  },
  {
   "cell_type": "code",
   "execution_count": 87,
   "metadata": {},
   "outputs": [],
   "source": [
    "train_painting_list = [x for x in train_painting_list if x in os.listdir(os.path.abspath('./train_400'))]"
   ]
  },
  {
   "cell_type": "code",
   "execution_count": 88,
   "metadata": {},
   "outputs": [
    {
     "data": {
      "text/plain": [
       "(13690, 13690)"
      ]
     },
     "execution_count": 88,
     "metadata": {},
     "output_type": "execute_result"
    }
   ],
   "source": [
    "len(os.listdir(os.path.abspath('./train_400'))),len(train_painting_list)"
   ]
  },
  {
   "cell_type": "code",
   "execution_count": 77,
   "metadata": {},
   "outputs": [
    {
     "data": {
      "text/plain": [
       "(4190, 4190)"
      ]
     },
     "execution_count": 77,
     "metadata": {},
     "output_type": "execute_result"
    }
   ],
   "source": [
    "len(os.listdir(os.path.abspath('./test_400'))),len(test_painting_list)"
   ]
  },
  {
   "cell_type": "markdown",
   "metadata": {},
   "source": [
    "#### Quick summary of the present state of files:"
   ]
  },
  {
   "cell_type": "code",
   "execution_count": 78,
   "metadata": {},
   "outputs": [
    {
     "name": "stdout",
     "output_type": "stream",
     "text": [
      "Shape of training set : (13691, 2)\n",
      "Shape of testing set: (4190, 2)\n",
      "Number of files in the training folder: 13690\n",
      "Number of files in the test folder: 4190\n",
      "\n",
      "Are the names of the files the same in the train and test dataframes and the folders?\n"
     ]
    },
    {
     "data": {
      "text/plain": [
       "False"
      ]
     },
     "execution_count": 78,
     "metadata": {},
     "output_type": "execute_result"
    },
    {
     "data": {
      "text/plain": [
       "True"
      ]
     },
     "execution_count": 78,
     "metadata": {},
     "output_type": "execute_result"
    }
   ],
   "source": [
    "print('Shape of training set :',train.shape)\n",
    "print('Shape of testing set:',test.shape)\n",
    "print('Number of files in the training folder:',\n",
    "      len(os.listdir(os.path.abspath('./train_400'))))\n",
    "print('Number of files in the test folder:',\n",
    "      len(os.listdir(os.path.abspath('./test_400'))))\n",
    "print(\"\")\n",
    "print(\"Are the names of the files the same in the train and test dataframes and the folders?\")\n",
    "sorted(list(train['new_filename'])) == sorted(os.listdir(os.path.abspath('./train_400')))\n",
    "sorted(list(test['new_filename'])) == sorted(os.listdir(os.path.abspath('./test_400')))"
   ]
  },
  {
   "cell_type": "markdown",
   "metadata": {},
   "source": [
    "#### Creating list with the name of the painters:"
   ]
  },
  {
   "cell_type": "code",
   "execution_count": 63,
   "metadata": {},
   "outputs": [
    {
     "name": "stdout",
     "output_type": "stream",
     "text": [
      "['Ivan Aivazovsky', 'Gustave Dore', 'Odilon Redon', 'Rembrandt', 'Edgar Degas', 'Claude Monet', 'Albrecht Durer', 'Theophile Steinlen', 'Ivan Shishkin', 'Giovanni Battista Piranesi', 'Camille Corot', 'Pierre-Auguste Renoir', 'Childe Hassam', 'Raphael Kirchner', 'James Tissot', 'Alfred Sisley', 'Paul Cezanne', 'John Singer Sargent', 'Vincent van Gogh', 'Zdislav Beksinski', 'Camille Pissarro', 'Eugene Boudin', 'Fernand Leger', 'Boris Kustodiev', 'Nicholas Roerich', 'Ilya Repin', 'Martiros Saryan', 'Isaac Levitan', 'Pyotr Konchalovsky', 'Salvador Dali', 'Pablo Picasso', 'Henri Matisse', 'Henri Martin', 'Marc Chagall', 'Paul Gauguin', 'Eyvind Earle', 'Zinaida Serebriakova']\n"
     ]
    },
    {
     "data": {
      "text/plain": [
       "37"
      ]
     },
     "execution_count": 63,
     "metadata": {},
     "output_type": "execute_result"
    }
   ],
   "source": [
    "painters = list(train['artist'].unique())\n",
    "print(painters)\n",
    "len(painters)"
   ]
  },
  {
   "cell_type": "markdown",
   "metadata": {},
   "source": [
    "\n",
    "### Building subfolders\n",
    "\n",
    "To create the subfolders we must use the information dataframe to split the the images by painters. "
   ]
  },
  {
   "cell_type": "markdown",
   "metadata": {},
   "source": [
    "#### Building a list of sublists of painters \n",
    "\n",
    "The lists below contain a set of sublists and each of these sublists contains paintings by one painter only. Regarding the syntax:\n",
    "- The list `painters` is a list of all painters that were kept in the dataframe\n",
    "- The sublist `list(train_2[train_2['artist'] == i]['new_filename'])` contain all paintings by painter `i`\n",
    "- The lists `lst_train` and `lst_test` concatenate all sublists"
   ]
  },
  {
   "cell_type": "code",
   "execution_count": 94,
   "metadata": {},
   "outputs": [],
   "source": [
    "train_2 = train.copy()  # for safety reasons\n",
    "test_2 = test.copy()\n",
    "lst_train = []\n",
    "for i in painters:\n",
    "    lst_train.append(list(train_2[train_2['artist'] == i]['new_filename']))\n",
    "\n",
    "lst_test = []\n",
    "for i in painters:\n",
    "    lst_test.append(list(test_2[test_2['artist'] == i]['new_filename']))"
   ]
  },
  {
   "cell_type": "markdown",
   "metadata": {},
   "source": [
    "Quick test of the syntax:"
   ]
  },
  {
   "cell_type": "code",
   "execution_count": 65,
   "metadata": {},
   "outputs": [
    {
     "data": {
      "text/html": [
       "<div>\n",
       "<style scoped>\n",
       "    .dataframe tbody tr th:only-of-type {\n",
       "        vertical-align: middle;\n",
       "    }\n",
       "\n",
       "    .dataframe tbody tr th {\n",
       "        vertical-align: top;\n",
       "    }\n",
       "\n",
       "    .dataframe thead th {\n",
       "        text-align: right;\n",
       "    }\n",
       "</style>\n",
       "<table border=\"1\" class=\"dataframe\">\n",
       "  <thead>\n",
       "    <tr style=\"text-align: right;\">\n",
       "      <th></th>\n",
       "      <th>artist</th>\n",
       "      <th>new_filename</th>\n",
       "    </tr>\n",
       "  </thead>\n",
       "  <tbody>\n",
       "    <tr>\n",
       "      <th>14</th>\n",
       "      <td>Ivan Aivazovsky</td>\n",
       "      <td>99442.jpg</td>\n",
       "    </tr>\n",
       "    <tr>\n",
       "      <th>82</th>\n",
       "      <td>Ivan Aivazovsky</td>\n",
       "      <td>81750.jpg</td>\n",
       "    </tr>\n",
       "    <tr>\n",
       "      <th>660</th>\n",
       "      <td>Ivan Aivazovsky</td>\n",
       "      <td>82140.jpg</td>\n",
       "    </tr>\n",
       "    <tr>\n",
       "      <th>798</th>\n",
       "      <td>Ivan Aivazovsky</td>\n",
       "      <td>74871.jpg</td>\n",
       "    </tr>\n",
       "    <tr>\n",
       "      <th>7030</th>\n",
       "      <td>Ivan Aivazovsky</td>\n",
       "      <td>51238.jpg</td>\n",
       "    </tr>\n",
       "  </tbody>\n",
       "</table>\n",
       "</div>"
      ],
      "text/plain": [
       "               artist new_filename\n",
       "14    Ivan Aivazovsky    99442.jpg\n",
       "82    Ivan Aivazovsky    81750.jpg\n",
       "660   Ivan Aivazovsky    82140.jpg\n",
       "798   Ivan Aivazovsky    74871.jpg\n",
       "7030  Ivan Aivazovsky    51238.jpg"
      ]
     },
     "execution_count": 65,
     "metadata": {},
     "output_type": "execute_result"
    },
    {
     "data": {
      "text/plain": [
       "['99442.jpg', '81750.jpg', '82140.jpg', '74871.jpg', '51238.jpg']"
      ]
     },
     "execution_count": 65,
     "metadata": {},
     "output_type": "execute_result"
    },
    {
     "data": {
      "text/html": [
       "<div>\n",
       "<style scoped>\n",
       "    .dataframe tbody tr th:only-of-type {\n",
       "        vertical-align: middle;\n",
       "    }\n",
       "\n",
       "    .dataframe tbody tr th {\n",
       "        vertical-align: top;\n",
       "    }\n",
       "\n",
       "    .dataframe thead th {\n",
       "        text-align: right;\n",
       "    }\n",
       "</style>\n",
       "<table border=\"1\" class=\"dataframe\">\n",
       "  <thead>\n",
       "    <tr style=\"text-align: right;\">\n",
       "      <th></th>\n",
       "      <th>artist</th>\n",
       "      <th>new_filename</th>\n",
       "    </tr>\n",
       "  </thead>\n",
       "  <tbody>\n",
       "    <tr>\n",
       "      <th>28</th>\n",
       "      <td>Gustave Dore</td>\n",
       "      <td>7486.jpg</td>\n",
       "    </tr>\n",
       "    <tr>\n",
       "      <th>29</th>\n",
       "      <td>Gustave Dore</td>\n",
       "      <td>35766.jpg</td>\n",
       "    </tr>\n",
       "    <tr>\n",
       "      <th>1747</th>\n",
       "      <td>Gustave Dore</td>\n",
       "      <td>94058.jpg</td>\n",
       "    </tr>\n",
       "    <tr>\n",
       "      <th>3333</th>\n",
       "      <td>Gustave Dore</td>\n",
       "      <td>63458.jpg</td>\n",
       "    </tr>\n",
       "    <tr>\n",
       "      <th>3557</th>\n",
       "      <td>Gustave Dore</td>\n",
       "      <td>37956.jpg</td>\n",
       "    </tr>\n",
       "  </tbody>\n",
       "</table>\n",
       "</div>"
      ],
      "text/plain": [
       "            artist new_filename\n",
       "28    Gustave Dore     7486.jpg\n",
       "29    Gustave Dore    35766.jpg\n",
       "1747  Gustave Dore    94058.jpg\n",
       "3333  Gustave Dore    63458.jpg\n",
       "3557  Gustave Dore    37956.jpg"
      ]
     },
     "execution_count": 65,
     "metadata": {},
     "output_type": "execute_result"
    },
    {
     "data": {
      "text/plain": [
       "['7486.jpg', '35766.jpg', '94058.jpg', '63458.jpg', '37956.jpg']"
      ]
     },
     "execution_count": 65,
     "metadata": {},
     "output_type": "execute_result"
    },
    {
     "data": {
      "text/html": [
       "<div>\n",
       "<style scoped>\n",
       "    .dataframe tbody tr th:only-of-type {\n",
       "        vertical-align: middle;\n",
       "    }\n",
       "\n",
       "    .dataframe tbody tr th {\n",
       "        vertical-align: top;\n",
       "    }\n",
       "\n",
       "    .dataframe thead th {\n",
       "        text-align: right;\n",
       "    }\n",
       "</style>\n",
       "<table border=\"1\" class=\"dataframe\">\n",
       "  <thead>\n",
       "    <tr style=\"text-align: right;\">\n",
       "      <th></th>\n",
       "      <th>artist</th>\n",
       "      <th>new_filename</th>\n",
       "    </tr>\n",
       "  </thead>\n",
       "  <tbody>\n",
       "    <tr>\n",
       "      <th>711</th>\n",
       "      <td>Pierre-Auguste Renoir</td>\n",
       "      <td>3016.jpg</td>\n",
       "    </tr>\n",
       "    <tr>\n",
       "      <th>1892</th>\n",
       "      <td>Pierre-Auguste Renoir</td>\n",
       "      <td>3603.jpg</td>\n",
       "    </tr>\n",
       "    <tr>\n",
       "      <th>3482</th>\n",
       "      <td>Pierre-Auguste Renoir</td>\n",
       "      <td>82624.jpg</td>\n",
       "    </tr>\n",
       "    <tr>\n",
       "      <th>4280</th>\n",
       "      <td>Pierre-Auguste Renoir</td>\n",
       "      <td>25088.jpg</td>\n",
       "    </tr>\n",
       "    <tr>\n",
       "      <th>4346</th>\n",
       "      <td>Pierre-Auguste Renoir</td>\n",
       "      <td>51077.jpg</td>\n",
       "    </tr>\n",
       "  </tbody>\n",
       "</table>\n",
       "</div>"
      ],
      "text/plain": [
       "                     artist new_filename\n",
       "711   Pierre-Auguste Renoir     3016.jpg\n",
       "1892  Pierre-Auguste Renoir     3603.jpg\n",
       "3482  Pierre-Auguste Renoir    82624.jpg\n",
       "4280  Pierre-Auguste Renoir    25088.jpg\n",
       "4346  Pierre-Auguste Renoir    51077.jpg"
      ]
     },
     "execution_count": 65,
     "metadata": {},
     "output_type": "execute_result"
    },
    {
     "data": {
      "text/plain": [
       "['3016.jpg', '3603.jpg', '82624.jpg', '25088.jpg', '51077.jpg']"
      ]
     },
     "execution_count": 65,
     "metadata": {},
     "output_type": "execute_result"
    }
   ],
   "source": [
    "i,j,k = painters[0],painters[1],painters[11]   # Ivan Aivazovsky, Gustave Dore and Gustave Dore\n",
    "train_2[train_2['artist'] == i].head()\n",
    "list(train_2[train_2['artist'] == i]['new_filename'])[0:5]\n",
    "train_2[train_2['artist'] == j].head()\n",
    "list(train_2[train_2['artist'] == j]['new_filename'])[0:5]\n",
    "train_2[train_2['artist'] == k].head()\n",
    "list(train_2[train_2['artist'] == k]['new_filename'])[0:5]"
   ]
  },
  {
   "cell_type": "code",
   "execution_count": 66,
   "metadata": {},
   "outputs": [
    {
     "name": "stdout",
     "output_type": "stream",
     "text": [
      "['99442.jpg', '81750.jpg', '82140.jpg', '74871.jpg', '51238.jpg']\n",
      "['7486.jpg', '35766.jpg', '94058.jpg', '63458.jpg', '37956.jpg']\n",
      "['29331.jpg', '78766.jpg', '25287.jpg', '48925.jpg', '89927.jpg']\n",
      "['3016.jpg', '3603.jpg', '82624.jpg', '25088.jpg', '51077.jpg']\n"
     ]
    }
   ],
   "source": [
    "print(lst_train[0][0:5]) # sublist containing paintings by painter[0]\n",
    "print(lst_train[1][0:5]) # sublist containing paintings by painter[1]\n",
    "print(lst_train[2][0:5]) # sublist containing paintings by painter[2]\n",
    "print(lst_train[11][0:5]) # sublist containing paintings by painter[11]"
   ]
  },
  {
   "cell_type": "markdown",
   "metadata": {},
   "source": [
    "We must first create the directories that will contain the individual painters' sub-folders."
   ]
  },
  {
   "cell_type": "code",
   "execution_count": null,
   "metadata": {},
   "outputs": [],
   "source": [
    "# %mkdir './trainsetnewsplit'\n",
    "# %mkdir './testsetnewsplit'"
   ]
  },
  {
   "cell_type": "markdown",
   "metadata": {},
   "source": [
    "The auxiliary functions below just write out the commands:\n",
    "\n",
    "    %mkdir './trainsetnewsplit/Ivan_Aivazovsky'\n",
    "    %mkdir './trainsetnewsplit/Gustave_Dore'\n",
    "    %mkdir './trainsetnewsplit/Rembrandt'\n",
    "    ..."
   ]
  },
  {
   "cell_type": "code",
   "execution_count": 107,
   "metadata": {},
   "outputs": [],
   "source": [
    "def list_folder_train(lst):\n",
    "    lst_sub_folders = []\n",
    "    for i in range(len(lst)):\n",
    "        lst_sub_folders.append('%mkdir'+' '+\"'./trainsetnewsplit_400/\"+ painters[i] + \"'\")\n",
    "    return lst_sub_folders\n",
    "\n",
    "def list_folder_test(lst):\n",
    "    lst_sub_folders = []\n",
    "    for i in range(len(lst)):\n",
    "        lst_sub_folders.append('%mkdir'+' '+\"'./testsetnewsplit_400/\"+ painters[i] + \"'\")\n",
    "    return lst_sub_folders"
   ]
  },
  {
   "cell_type": "code",
   "execution_count": 97,
   "metadata": {},
   "outputs": [
    {
     "data": {
      "text/plain": [
       "37"
      ]
     },
     "execution_count": 97,
     "metadata": {},
     "output_type": "execute_result"
    },
    {
     "data": {
      "text/plain": [
       "37"
      ]
     },
     "execution_count": 97,
     "metadata": {},
     "output_type": "execute_result"
    }
   ],
   "source": [
    "len(painters)\n",
    "len(lst_train)"
   ]
  },
  {
   "cell_type": "code",
   "execution_count": 108,
   "metadata": {},
   "outputs": [
    {
     "data": {
      "text/plain": [
       "\"%mkdir './trainsetnewsplit_400/Ivan Aivazovsky'\""
      ]
     },
     "execution_count": 108,
     "metadata": {},
     "output_type": "execute_result"
    }
   ],
   "source": [
    "list_folder_train(lst_train)[0]"
   ]
  },
  {
   "cell_type": "code",
   "execution_count": 98,
   "metadata": {},
   "outputs": [],
   "source": [
    "%mkdir './trainsetnewsplit_400'\n",
    "%mkdir './testsetnewsplit_400'"
   ]
  },
  {
   "cell_type": "code",
   "execution_count": 109,
   "metadata": {
    "scrolled": false
   },
   "outputs": [
    {
     "name": "stdout",
     "output_type": "stream",
     "text": [
      "%mkdir './trainsetnewsplit_400/Ivan_Aivazovsky'\n",
      "%mkdir './trainsetnewsplit_400/Gustave_Dore'\n",
      "%mkdir './trainsetnewsplit_400/Odilon_Redon'\n",
      "%mkdir './trainsetnewsplit_400/Rembrandt'\n",
      "%mkdir './trainsetnewsplit_400/Edgar_Degas'\n",
      "%mkdir './trainsetnewsplit_400/Claude_Monet'\n",
      "%mkdir './trainsetnewsplit_400/Albrecht_Durer'\n",
      "%mkdir './trainsetnewsplit_400/Theophile_Steinlen'\n",
      "%mkdir './trainsetnewsplit_400/Ivan_Shishkin'\n",
      "%mkdir './trainsetnewsplit_400/Giovanni_Battista_Piranesi'\n",
      "%mkdir './trainsetnewsplit_400/Camille_Corot'\n",
      "%mkdir './trainsetnewsplit_400/Pierre-Auguste_Renoir'\n",
      "%mkdir './trainsetnewsplit_400/Childe_Hassam'\n",
      "%mkdir './trainsetnewsplit_400/Raphael_Kirchner'\n",
      "%mkdir './trainsetnewsplit_400/James_Tissot'\n",
      "%mkdir './trainsetnewsplit_400/Alfred_Sisley'\n",
      "%mkdir './trainsetnewsplit_400/Paul_Cezanne'\n",
      "%mkdir './trainsetnewsplit_400/John_Singer_Sargent'\n",
      "%mkdir './trainsetnewsplit_400/Vincent_van_Gogh'\n",
      "%mkdir './trainsetnewsplit_400/Zdislav_Beksinski'\n",
      "%mkdir './trainsetnewsplit_400/Camille_Pissarro'\n",
      "%mkdir './trainsetnewsplit_400/Eugene_Boudin'\n",
      "%mkdir './trainsetnewsplit_400/Fernand_Leger'\n",
      "%mkdir './trainsetnewsplit_400/Boris_Kustodiev'\n",
      "%mkdir './trainsetnewsplit_400/Nicholas_Roerich'\n",
      "%mkdir './trainsetnewsplit_400/Ilya_Repin'\n",
      "%mkdir './trainsetnewsplit_400/Martiros_Saryan'\n",
      "%mkdir './trainsetnewsplit_400/Isaac_Levitan'\n",
      "%mkdir './trainsetnewsplit_400/Pyotr_Konchalovsky'\n",
      "%mkdir './trainsetnewsplit_400/Salvador_Dali'\n",
      "%mkdir './trainsetnewsplit_400/Pablo_Picasso'\n",
      "%mkdir './trainsetnewsplit_400/Henri_Matisse'\n",
      "%mkdir './trainsetnewsplit_400/Henri_Martin'\n",
      "%mkdir './trainsetnewsplit_400/Marc_Chagall'\n",
      "%mkdir './trainsetnewsplit_400/Paul_Gauguin'\n",
      "%mkdir './trainsetnewsplit_400/Eyvind_Earle'\n",
      "%mkdir './trainsetnewsplit_400/Zinaida_Serebriakova'\n",
      "%mkdir './testsetnewsplit_400/Ivan_Aivazovsky'\n",
      "%mkdir './testsetnewsplit_400/Gustave_Dore'\n",
      "%mkdir './testsetnewsplit_400/Odilon_Redon'\n",
      "%mkdir './testsetnewsplit_400/Rembrandt'\n",
      "%mkdir './testsetnewsplit_400/Edgar_Degas'\n",
      "%mkdir './testsetnewsplit_400/Claude_Monet'\n",
      "%mkdir './testsetnewsplit_400/Albrecht_Durer'\n",
      "%mkdir './testsetnewsplit_400/Theophile_Steinlen'\n",
      "%mkdir './testsetnewsplit_400/Ivan_Shishkin'\n",
      "%mkdir './testsetnewsplit_400/Giovanni_Battista_Piranesi'\n",
      "%mkdir './testsetnewsplit_400/Camille_Corot'\n",
      "%mkdir './testsetnewsplit_400/Pierre-Auguste_Renoir'\n",
      "%mkdir './testsetnewsplit_400/Childe_Hassam'\n",
      "%mkdir './testsetnewsplit_400/Raphael_Kirchner'\n",
      "%mkdir './testsetnewsplit_400/James_Tissot'\n",
      "%mkdir './testsetnewsplit_400/Alfred_Sisley'\n",
      "%mkdir './testsetnewsplit_400/Paul_Cezanne'\n",
      "%mkdir './testsetnewsplit_400/John_Singer_Sargent'\n",
      "%mkdir './testsetnewsplit_400/Vincent_van_Gogh'\n",
      "%mkdir './testsetnewsplit_400/Zdislav_Beksinski'\n",
      "%mkdir './testsetnewsplit_400/Camille_Pissarro'\n",
      "%mkdir './testsetnewsplit_400/Eugene_Boudin'\n",
      "%mkdir './testsetnewsplit_400/Fernand_Leger'\n",
      "%mkdir './testsetnewsplit_400/Boris_Kustodiev'\n",
      "%mkdir './testsetnewsplit_400/Nicholas_Roerich'\n",
      "%mkdir './testsetnewsplit_400/Ilya_Repin'\n",
      "%mkdir './testsetnewsplit_400/Martiros_Saryan'\n",
      "%mkdir './testsetnewsplit_400/Isaac_Levitan'\n",
      "%mkdir './testsetnewsplit_400/Pyotr_Konchalovsky'\n",
      "%mkdir './testsetnewsplit_400/Salvador_Dali'\n",
      "%mkdir './testsetnewsplit_400/Pablo_Picasso'\n",
      "%mkdir './testsetnewsplit_400/Henri_Matisse'\n",
      "%mkdir './testsetnewsplit_400/Henri_Martin'\n",
      "%mkdir './testsetnewsplit_400/Marc_Chagall'\n",
      "%mkdir './testsetnewsplit_400/Paul_Gauguin'\n",
      "%mkdir './testsetnewsplit_400/Eyvind_Earle'\n",
      "%mkdir './testsetnewsplit_400/Zinaida_Serebriakova'\n"
     ]
    }
   ],
   "source": [
    "for el in list_folder_train(lst_train):\n",
    "    print(el.replace(' ','_').replace('dir_','dir '))\n",
    "for el in list_folder_test(lst_test):\n",
    "    print(el.replace(' ','_').replace('dir_','dir '))"
   ]
  },
  {
   "cell_type": "markdown",
   "metadata": {},
   "source": [
    "Creating all directories:"
   ]
  },
  {
   "cell_type": "code",
   "execution_count": 110,
   "metadata": {},
   "outputs": [],
   "source": [
    "%mkdir './trainsetnewsplit_400/Ivan_Aivazovsky'\n",
    "%mkdir './trainsetnewsplit_400/Gustave_Dore'\n",
    "%mkdir './trainsetnewsplit_400/Odilon_Redon'\n",
    "%mkdir './trainsetnewsplit_400/Rembrandt'\n",
    "%mkdir './trainsetnewsplit_400/Edgar_Degas'\n",
    "%mkdir './trainsetnewsplit_400/Claude_Monet'\n",
    "%mkdir './trainsetnewsplit_400/Albrecht_Durer'\n",
    "%mkdir './trainsetnewsplit_400/Theophile_Steinlen'\n",
    "%mkdir './trainsetnewsplit_400/Ivan_Shishkin'\n",
    "%mkdir './trainsetnewsplit_400/Giovanni_Battista_Piranesi'\n",
    "%mkdir './trainsetnewsplit_400/Camille_Corot'\n",
    "%mkdir './trainsetnewsplit_400/Pierre-Auguste_Renoir'\n",
    "%mkdir './trainsetnewsplit_400/Childe_Hassam'\n",
    "%mkdir './trainsetnewsplit_400/Raphael_Kirchner'\n",
    "%mkdir './trainsetnewsplit_400/James_Tissot'\n",
    "%mkdir './trainsetnewsplit_400/Alfred_Sisley'\n",
    "%mkdir './trainsetnewsplit_400/Paul_Cezanne'\n",
    "%mkdir './trainsetnewsplit_400/John_Singer_Sargent'\n",
    "%mkdir './trainsetnewsplit_400/Vincent_van_Gogh'\n",
    "%mkdir './trainsetnewsplit_400/Zdislav_Beksinski'\n",
    "%mkdir './trainsetnewsplit_400/Camille_Pissarro'\n",
    "%mkdir './trainsetnewsplit_400/Eugene_Boudin'\n",
    "%mkdir './trainsetnewsplit_400/Fernand_Leger'\n",
    "%mkdir './trainsetnewsplit_400/Boris_Kustodiev'\n",
    "%mkdir './trainsetnewsplit_400/Nicholas_Roerich'\n",
    "%mkdir './trainsetnewsplit_400/Ilya_Repin'\n",
    "%mkdir './trainsetnewsplit_400/Martiros_Saryan'\n",
    "%mkdir './trainsetnewsplit_400/Isaac_Levitan'\n",
    "%mkdir './trainsetnewsplit_400/Pyotr_Konchalovsky'\n",
    "%mkdir './trainsetnewsplit_400/Salvador_Dali'\n",
    "%mkdir './trainsetnewsplit_400/Pablo_Picasso'\n",
    "%mkdir './trainsetnewsplit_400/Henri_Matisse'\n",
    "%mkdir './trainsetnewsplit_400/Henri_Martin'\n",
    "%mkdir './trainsetnewsplit_400/Marc_Chagall'\n",
    "%mkdir './trainsetnewsplit_400/Paul_Gauguin'\n",
    "%mkdir './trainsetnewsplit_400/Eyvind_Earle'\n",
    "%mkdir './trainsetnewsplit_400/Zinaida_Serebriakova'\n",
    "%mkdir './testsetnewsplit_400/Ivan_Aivazovsky'\n",
    "%mkdir './testsetnewsplit_400/Gustave_Dore'\n",
    "%mkdir './testsetnewsplit_400/Odilon_Redon'\n",
    "%mkdir './testsetnewsplit_400/Rembrandt'\n",
    "%mkdir './testsetnewsplit_400/Edgar_Degas'\n",
    "%mkdir './testsetnewsplit_400/Claude_Monet'\n",
    "%mkdir './testsetnewsplit_400/Albrecht_Durer'\n",
    "%mkdir './testsetnewsplit_400/Theophile_Steinlen'\n",
    "%mkdir './testsetnewsplit_400/Ivan_Shishkin'\n",
    "%mkdir './testsetnewsplit_400/Giovanni_Battista_Piranesi'\n",
    "%mkdir './testsetnewsplit_400/Camille_Corot'\n",
    "%mkdir './testsetnewsplit_400/Pierre-Auguste_Renoir'\n",
    "%mkdir './testsetnewsplit_400/Childe_Hassam'\n",
    "%mkdir './testsetnewsplit_400/Raphael_Kirchner'\n",
    "%mkdir './testsetnewsplit_400/James_Tissot'\n",
    "%mkdir './testsetnewsplit_400/Alfred_Sisley'\n",
    "%mkdir './testsetnewsplit_400/Paul_Cezanne'\n",
    "%mkdir './testsetnewsplit_400/John_Singer_Sargent'\n",
    "%mkdir './testsetnewsplit_400/Vincent_van_Gogh'\n",
    "%mkdir './testsetnewsplit_400/Zdislav_Beksinski'\n",
    "%mkdir './testsetnewsplit_400/Camille_Pissarro'\n",
    "%mkdir './testsetnewsplit_400/Eugene_Boudin'\n",
    "%mkdir './testsetnewsplit_400/Fernand_Leger'\n",
    "%mkdir './testsetnewsplit_400/Boris_Kustodiev'\n",
    "%mkdir './testsetnewsplit_400/Nicholas_Roerich'\n",
    "%mkdir './testsetnewsplit_400/Ilya_Repin'\n",
    "%mkdir './testsetnewsplit_400/Martiros_Saryan'\n",
    "%mkdir './testsetnewsplit_400/Isaac_Levitan'\n",
    "%mkdir './testsetnewsplit_400/Pyotr_Konchalovsky'\n",
    "%mkdir './testsetnewsplit_400/Salvador_Dali'\n",
    "%mkdir './testsetnewsplit_400/Pablo_Picasso'\n",
    "%mkdir './testsetnewsplit_400/Henri_Matisse'\n",
    "%mkdir './testsetnewsplit_400/Henri_Martin'\n",
    "%mkdir './testsetnewsplit_400/Marc_Chagall'\n",
    "%mkdir './testsetnewsplit_400/Paul_Gauguin'\n",
    "%mkdir './testsetnewsplit_400/Eyvind_Earle'\n",
    "%mkdir './testsetnewsplit_400/Zinaida_Serebriakova'"
   ]
  },
  {
   "cell_type": "markdown",
   "metadata": {},
   "source": [
    "#### Function `subfolder_maker_multi(  )`  logic\n",
    "\n",
    "The function must do the following (take the `lst_train` for illustration):\n",
    "- Fixes a `sublist` inside `lst`, say, `lst[0]` (i.e. fix a painter, say, Ivan Aivazovsky)\n",
    "- Fixes an element inside the `sublist` \n",
    "- Build paths of the form below for each element `i` of the sublist\n",
    "\n",
    "      ./trainsetnewsplit/Ivan_Aivazovsky/sublist[i]\n",
    "      \n",
    "- Save `lst_train[0][i]` for all `i` within the sublist to that subfolder"
   ]
  },
  {
   "cell_type": "code",
   "execution_count": 111,
   "metadata": {},
   "outputs": [],
   "source": [
    "def subfolder_maker_multi(PATH,PATHDUMP,lst):\n",
    "    for sublist in tqdm(lst): # fix a sublist, \n",
    "        for el in sublist:   \n",
    "            img = Image.open(os.path.join(PATH,el))  # creates PIL image \n",
    "            img.save(os.path.join(PATHDUMP,\n",
    "                                  painters[lst.index(sublist)].replace(' ','_'),el))"
   ]
  },
  {
   "cell_type": "markdown",
   "metadata": {},
   "source": [
    "#### Applying the the full list"
   ]
  },
  {
   "cell_type": "code",
   "execution_count": 112,
   "metadata": {},
   "outputs": [
    {
     "data": {
      "text/plain": [
       "'/Users/marcotavora/capstone_phase_2/train_400'"
      ]
     },
     "execution_count": 112,
     "metadata": {},
     "output_type": "execute_result"
    },
    {
     "data": {
      "text/plain": [
       "'/Users/marcotavora/capstone_phase_2/trainsetnewsplit_400'"
      ]
     },
     "execution_count": 112,
     "metadata": {},
     "output_type": "execute_result"
    }
   ],
   "source": [
    "PATH = os.path.abspath('./train_400')\n",
    "PATHDUMP = os.path.abspath('./trainsetnewsplit_400')\n",
    "PATH\n",
    "PATHDUMP"
   ]
  },
  {
   "cell_type": "code",
   "execution_count": null,
   "metadata": {},
   "outputs": [],
   "source": [
    "!rm '/Users/marcotavora/capstone_phase_2/trainsetnewsplit_400'"
   ]
  },
  {
   "cell_type": "code",
   "execution_count": 114,
   "metadata": {},
   "outputs": [
    {
     "data": {
      "text/plain": [
       "'/Users/marcotavora/capstone_phase_2/trainsetnewsplit_400'"
      ]
     },
     "execution_count": 114,
     "metadata": {},
     "output_type": "execute_result"
    }
   ],
   "source": [
    "os.path.abspath('./trainsetnewsplit_400')"
   ]
  },
  {
   "cell_type": "code",
   "execution_count": 115,
   "metadata": {},
   "outputs": [
    {
     "name": "stderr",
     "output_type": "stream",
     "text": [
      "\n",
      "  0%|          | 0/37 [00:00<?, ?it/s]\u001b[A\n",
      "  3%|▎         | 1/37 [00:00<00:29,  1.23it/s]\u001b[A\n",
      "  5%|▌         | 2/37 [00:02<00:35,  1.02s/it]\u001b[A\n",
      "Exception in thread Thread-8:\n",
      "Traceback (most recent call last):\n",
      "  File \"/Users/marcotavora/Applications/anaconda3/lib/python3.6/threading.py\", line 916, in _bootstrap_inner\n",
      "    self.run()\n",
      "  File \"/Users/marcotavora/Applications/anaconda3/lib/python3.6/site-packages/tqdm/_tqdm.py\", line 144, in run\n",
      "    for instance in self.tqdm_cls._instances:\n",
      "  File \"/Users/marcotavora/Applications/anaconda3/lib/python3.6/_weakrefset.py\", line 60, in __iter__\n",
      "    for itemref in self.data:\n",
      "RuntimeError: Set changed size during iteration\n",
      "\n",
      "100%|██████████| 37/37 [00:28<00:00,  1.32it/s]\n"
     ]
    }
   ],
   "source": [
    "PATH = os.path.abspath('./test_400')\n",
    "PATHDUMP = os.path.abspath('./testsetnewsplit_400')\n",
    "subfolder_maker_multi(PATH,PATHDUMP,lst_test)"
   ]
  },
  {
   "cell_type": "markdown",
   "metadata": {},
   "source": [
    "### Our data set is ready. Let us build the models! See the other file.\n",
    " _____________________________\n"
   ]
  }
 ],
 "metadata": {
  "kernelspec": {
   "display_name": "Python [conda env:anaconda3]",
   "language": "python",
   "name": "conda-env-anaconda3-py"
  },
  "language_info": {
   "codemirror_mode": {
    "name": "ipython",
    "version": 3
   },
   "file_extension": ".py",
   "mimetype": "text/x-python",
   "name": "python",
   "nbconvert_exporter": "python",
   "pygments_lexer": "ipython3",
   "version": "3.6.4"
  }
 },
 "nbformat": 4,
 "nbformat_minor": 2
}
